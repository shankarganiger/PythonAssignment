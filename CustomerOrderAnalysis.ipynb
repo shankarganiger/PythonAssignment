{
 "cells": [
  {
   "cell_type": "markdown",
   "id": "f4a74675",
   "metadata": {},
   "source": [
    "## Analyzing customer orders using python"
   ]
  },
  {
   "cell_type": "markdown",
   "id": "80051d5e",
   "metadata": {},
   "source": [
    "### Create Customer Order Data Structure"
   ]
  },
  {
   "cell_type": "code",
   "execution_count": 86,
   "id": "e370dc40",
   "metadata": {},
   "outputs": [],
   "source": [
    "customerOrders = [\n",
    "    # Customers with both clothing and electronics\n",
    "    (\"shankar\", \"phone\", 40.00, \"electronics\"),\n",
    "    (\"shankar\", \"cap\", 15.00, \"clothing\"),\n",
    "    (\"shankar\", \"usb\", 5.00, \"electronics\"),\n",
    "    (\"shankar\", \"usb\", 5.00, \"electronics\"),\n",
    "\n",
    "    (\"emma\", \"headphones\", 55.00, \"electronics\"),\n",
    "    (\"emma\", \"scarf\", 25.00, \"clothing\"),\n",
    "\n",
    "    (\"ananya\", \"smartwatch\", 130.00, \"electronics\"),\n",
    "    (\"ananya\", \"jacket\", 45.00, \"clothing\"),\n",
    "\n",
    "    (\"jack\", \"gamingmouse\", 60.00, \"electronics\"),\n",
    "    (\"jack\", \"TShirt\", 20.00, \"clothing\"),\n",
    "\n",
    "    (\"liwei\", \"earbuds\", 35.00, \"electronics\"),\n",
    "    (\"liwei\", \"sneakers\", 50.00, \"clothing\"),\n",
    "\n",
    "    # Clothing only\n",
    "    (\"ravi\", \"shorts\", 15.00, \"clothing\"),\n",
    "    (\"ravi\", \"hoodie\", 25.00, \"clothing\"),\n",
    "\n",
    "    (\"elena\", \"dress\", 70.00, \"clothing\"),\n",
    "    (\"elena\", \"necklace\", 35.00, \"clothing\"),\n",
    "\n",
    "    (\"sophia\", \"yoga pants\", 40.00, \"clothing\"),\n",
    "    (\"sophia\", \"tank top\", 10.00, \"clothing\"),\n",
    "\n",
    "    # Electronics only\n",
    "    (\"jacob\", \"tablet\", 120.00, \"electronics\"),\n",
    "    (\"jacob\", \"charger\", 25.00, \"electronics\"),\n",
    "\n",
    "    (\"hiroshi\", \"keyboard\", 55.00, \"electronics\"),\n",
    "    (\"hiroshi\", \"mousepad\", 12.00, \"electronics\"),\n",
    "\n",
    "    # Mixed categories (not clothing or electronics)\n",
    "    (\"kwame\", \"blender\", 80.00, \"homeessentials\"),\n",
    "    (\"kwame\", \"towel\", 12.00, \"homeessentials\"),\n",
    "\n",
    "    (\"fatima\", \"cookware set\", 95.00, \"homeessentials\"),\n",
    "    (\"fatima\", \"journal\", 15.00, \"stationery\")\n",
    "]\n"
   ]
  },
  {
   "cell_type": "markdown",
   "id": "25d9dfd5",
   "metadata": {},
   "source": [
    "### Loop through the list of tuples"
   ]
  },
  {
   "cell_type": "code",
   "execution_count": 87,
   "id": "ecc1c20a",
   "metadata": {},
   "outputs": [
    {
     "name": "stdout",
     "output_type": "stream",
     "text": [
      "***Customer Orders***\n",
      "('shankar', 'phone', 40.0, 'electronics')\n",
      "('shankar', 'cap', 15.0, 'clothing')\n",
      "('shankar', 'usb', 5.0, 'electronics')\n",
      "('shankar', 'usb', 5.0, 'electronics')\n",
      "('emma', 'headphones', 55.0, 'electronics')\n",
      "('emma', 'scarf', 25.0, 'clothing')\n",
      "('ananya', 'smartwatch', 130.0, 'electronics')\n",
      "('ananya', 'jacket', 45.0, 'clothing')\n",
      "('jack', 'gamingmouse', 60.0, 'electronics')\n",
      "('jack', 'TShirt', 20.0, 'clothing')\n",
      "('liwei', 'earbuds', 35.0, 'electronics')\n",
      "('liwei', 'sneakers', 50.0, 'clothing')\n",
      "('ravi', 'shorts', 15.0, 'clothing')\n",
      "('ravi', 'hoodie', 25.0, 'clothing')\n",
      "('elena', 'dress', 70.0, 'clothing')\n",
      "('elena', 'necklace', 35.0, 'clothing')\n",
      "('sophia', 'yoga pants', 40.0, 'clothing')\n",
      "('sophia', 'tank top', 10.0, 'clothing')\n",
      "('jacob', 'tablet', 120.0, 'electronics')\n",
      "('jacob', 'charger', 25.0, 'electronics')\n",
      "('hiroshi', 'keyboard', 55.0, 'electronics')\n",
      "('hiroshi', 'mousepad', 12.0, 'electronics')\n",
      "('kwame', 'blender', 80.0, 'homeessentials')\n",
      "('kwame', 'towel', 12.0, 'homeessentials')\n",
      "('fatima', 'cookware set', 95.0, 'homeessentials')\n",
      "('fatima', 'journal', 15.0, 'stationery')\n"
     ]
    }
   ],
   "source": [
    "print(\"***Customer Orders***\")\n",
    "for customerOrder in customerOrders:\n",
    "    print (customerOrder)"
   ]
  },
  {
   "cell_type": "markdown",
   "id": "ec24c2ae",
   "metadata": {},
   "source": [
    "### Create a dictionary with customer as key and products as values **{\"customerName\": []}**"
   ]
  },
  {
   "cell_type": "code",
   "execution_count": 88,
   "id": "4a9084e9",
   "metadata": {},
   "outputs": [
    {
     "name": "stdout",
     "output_type": "stream",
     "text": [
      "***Products purchased by customers***\n",
      "{'shankar': {'cap', 'phone', 'usb'}, 'emma': {'scarf', 'headphones'}, 'ananya': {'jacket', 'smartwatch'}, 'jack': {'gamingmouse', 'TShirt'}, 'liwei': {'earbuds', 'sneakers'}, 'ravi': {'shorts', 'hoodie'}, 'elena': {'necklace', 'dress'}, 'sophia': {'yoga pants', 'tank top'}, 'jacob': {'charger', 'tablet'}, 'hiroshi': {'keyboard', 'mousepad'}, 'kwame': {'blender', 'towel'}, 'fatima': {'cookware set', 'journal'}}\n"
     ]
    }
   ],
   "source": [
    "customerProducts= {};\n",
    "for customerOrder in customerOrders:\n",
    "   customerProducts.setdefault(customerOrder[0], set())\n",
    "   customerProducts[customerOrder[0]].add(customerOrder[1])\n",
    "\n",
    "print(\"***Products purchased by customers***\")\n",
    "print(customerProducts)"
   ]
  },
  {
   "cell_type": "markdown",
   "id": "db46e7ed",
   "metadata": {},
   "source": [
    "### Classify products by category "
   ]
  },
  {
   "cell_type": "code",
   "execution_count": 89,
   "id": "ce09028a",
   "metadata": {},
   "outputs": [
    {
     "name": "stdout",
     "output_type": "stream",
     "text": [
      "***Product Category to product Mapping***\n",
      "{'electronics': {'gamingmouse', 'mousepad', 'headphones', 'charger', 'earbuds', 'keyboard', 'tablet', 'phone', 'smartwatch', 'usb'}, 'clothing': {'shorts', 'necklace', 'tank top', 'cap', 'jacket', 'sneakers', 'hoodie', 'TShirt', 'yoga pants', 'scarf', 'dress'}, 'homeessentials': {'blender', 'cookware set', 'towel'}, 'stationery': {'journal'}}\n"
     ]
    }
   ],
   "source": [
    "productCategoryDictionary =  {}\n",
    "for customerOrder in customerOrders:\n",
    "    productCategoryDictionary.setdefault(customerOrder[3], set())\n",
    "    productCategoryDictionary[customerOrder[3]].add(customerOrder[1])\n",
    "\n",
    "print(\"***Product Category to product Mapping***\") \n",
    "print(productCategoryDictionary)\n",
    "    "
   ]
  },
  {
   "cell_type": "markdown",
   "id": "f0aa83bd",
   "metadata": {},
   "source": [
    "### Set of unique product categories \n"
   ]
  },
  {
   "cell_type": "code",
   "execution_count": null,
   "id": "dca07e62",
   "metadata": {},
   "outputs": [
    {
     "name": "stdout",
     "output_type": "stream",
     "text": [
      "***Unique Product Categories***\n",
      "{'STATIONERY', 'CLOTHING', 'HOMEESSENTIALS', 'ELECTRONICS'}\n"
     ]
    }
   ],
   "source": [
    "productCategories = list([item.upper() for item in productCategoryDictionary.keys()])\n",
    "print(\"***Unique Product Categories***\")\n",
    "print(productCategories)"
   ]
  },
  {
   "cell_type": "markdown",
   "id": "d78383fe",
   "metadata": {},
   "source": [
    "### Total Customer Spend and classification"
   ]
  },
  {
   "cell_type": "code",
   "execution_count": 91,
   "id": "ada6f8cd",
   "metadata": {},
   "outputs": [
    {
     "name": "stdout",
     "output_type": "stream",
     "text": [
      "The customer 'SHANKAR' is of 'MODERATE-VALUE'\n",
      "The customer 'EMMA' is of 'MODERATE-VALUE'\n",
      "The customer 'ANANYA' is of 'HIGH-VALUE'\n",
      "The customer 'JACK' is of 'MODERATE-VALUE'\n",
      "The customer 'LIWEI' is of 'MODERATE-VALUE'\n",
      "The customer 'RAVI' is of 'LOW-VALUE'\n",
      "The customer 'ELENA' is of 'HIGH-VALUE'\n",
      "The customer 'SOPHIA' is of 'MODERATE-VALUE'\n",
      "The customer 'JACOB' is of 'HIGH-VALUE'\n",
      "The customer 'HIROSHI' is of 'MODERATE-VALUE'\n",
      "The customer 'KWAME' is of 'MODERATE-VALUE'\n",
      "The customer 'FATIMA' is of 'HIGH-VALUE'\n",
      "{'shankar': {'totalspend': 65.0, 'classification': 'moderate-value', 'categories': {'electronics', 'clothing'}}, 'emma': {'totalspend': 80.0, 'classification': 'moderate-value', 'categories': {'electronics', 'clothing'}}, 'ananya': {'totalspend': 175.0, 'classification': 'high-value', 'categories': {'electronics', 'clothing'}}, 'jack': {'totalspend': 80.0, 'classification': 'moderate-value', 'categories': {'electronics', 'clothing'}}, 'liwei': {'totalspend': 85.0, 'classification': 'moderate-value', 'categories': {'electronics', 'clothing'}}, 'ravi': {'totalspend': 40.0, 'classification': 'low-value', 'categories': {'clothing'}}, 'elena': {'totalspend': 105.0, 'classification': 'high-value', 'categories': {'clothing'}}, 'sophia': {'totalspend': 50.0, 'classification': 'moderate-value', 'categories': {'clothing'}}, 'jacob': {'totalspend': 145.0, 'classification': 'high-value', 'categories': {'electronics'}}, 'hiroshi': {'totalspend': 67.0, 'classification': 'moderate-value', 'categories': {'electronics'}}, 'kwame': {'totalspend': 92.0, 'classification': 'moderate-value', 'categories': {'homeessentials'}}, 'fatima': {'totalspend': 110.0, 'classification': 'high-value', 'categories': {'stationery', 'homeessentials'}}}\n"
     ]
    }
   ],
   "source": [
    "customerClassification = {}\n",
    "for customerOrder in customerOrders:\n",
    "    \n",
    "    customerClassification.setdefault(customerOrder[0], {\"totalspend\":0.0, \"classification\":\"\" })\n",
    "    value_dict = customerClassification[customerOrder[0]]\n",
    "    if \"categories\" not in value_dict:\n",
    "        value_dict[\"categories\"] = set()\n",
    "    \n",
    "    value_dict[\"categories\"].add(customerOrder[3])\n",
    "    \n",
    "    customerClassification[customerOrder[0]][\"totalspend\"]  =  customerClassification[customerOrder[0]][\"totalspend\"] + customerOrder[2];\n",
    "   \n",
    "for name, values in customerClassification.items():\n",
    "    classification = \"\"\n",
    "    if values[\"totalspend\"] > 100:\n",
    "        classification = 'high-value'\n",
    "    elif values[\"totalspend\"] <= 100 and values[\"totalspend\"] >= 50:\n",
    "        classification = 'moderate-value'\n",
    "    else:\n",
    "          classification = 'low-value'   \n",
    "          \n",
    "    values[\"classification\"] = classification\n",
    "    print(f\"The customer '{name.upper()}' is of '{classification.upper()}'\")\n",
    "          \n",
    "print(customerClassification)\n"
   ]
  },
  {
   "cell_type": "markdown",
   "id": "2a1c648b",
   "metadata": {},
   "source": [
    "### Unique product list"
   ]
  },
  {
   "cell_type": "code",
   "execution_count": 92,
   "id": "45a2675c",
   "metadata": {},
   "outputs": [
    {
     "name": "stdout",
     "output_type": "stream",
     "text": [
      "['GAMINGMOUSE', 'MOUSEPAD', 'HEADPHONES', 'CHARGER', 'EARBUDS', 'KEYBOARD', 'TABLET', 'PHONE', 'SMARTWATCH', 'USB', 'SHORTS', 'NECKLACE', 'TANK TOP', 'CAP', 'JACKET', 'SNEAKERS', 'HOODIE', 'TSHIRT', 'YOGA PANTS', 'SCARF', 'DRESS', 'BLENDER', 'COOKWARE SET', 'TOWEL', 'JOURNAL']\n"
     ]
    }
   ],
   "source": [
    "productList = list([product.upper() for productlist in productCategoryDictionary.values() for product in productlist])\n",
    "print(productList)"
   ]
  },
  {
   "cell_type": "code",
   "execution_count": null,
   "id": "bff507bf",
   "metadata": {},
   "outputs": [],
   "source": []
  },
  {
   "cell_type": "markdown",
   "id": "486afbb4",
   "metadata": {},
   "source": [
    "### Total revenue by product category"
   ]
  },
  {
   "cell_type": "code",
   "execution_count": 93,
   "id": "ed366143",
   "metadata": {},
   "outputs": [
    {
     "name": "stdout",
     "output_type": "stream",
     "text": [
      "{'electronics': 542.0, 'clothing': 350.0, 'homeessentials': 187.0, 'stationery': 15.0}\n"
     ]
    }
   ],
   "source": [
    "revenueProductCategory = {}\n",
    "\n",
    "for customerOrder in customerOrders:\n",
    "    revenueProductCategory.setdefault(customerOrder[3],0.0);\n",
    "    revenueProductCategory[customerOrder[3]] = revenueProductCategory[customerOrder[3]] + customerOrder[2];\n",
    "    \n",
    "print(revenueProductCategory)"
   ]
  },
  {
   "cell_type": "markdown",
   "id": "607cc6a1",
   "metadata": {},
   "source": [
    "### Customers who purchased electronics products.\n"
   ]
  },
  {
   "cell_type": "markdown",
   "id": "0a88722e",
   "metadata": {},
   "source": []
  },
  {
   "cell_type": "code",
   "execution_count": 94,
   "id": "775982b5",
   "metadata": {},
   "outputs": [
    {
     "name": "stdout",
     "output_type": "stream",
     "text": [
      "{'JACOB', 'ANANYA', 'HIROSHI', 'EMMA', 'LIWEI', 'SHANKAR', 'JACK'}\n"
     ]
    }
   ],
   "source": [
    "electronicCustomers = set([ customerOrder[0].upper()  for customerOrder in customerOrders if customerOrder[3].upper() == 'ELECTRONICS'])\n",
    "print(electronicCustomers)"
   ]
  },
  {
   "cell_type": "markdown",
   "id": "25988878",
   "metadata": {},
   "source": [
    "### Top three highest-spending customers using sorting."
   ]
  },
  {
   "cell_type": "code",
   "execution_count": 95,
   "id": "77c92d8a",
   "metadata": {},
   "outputs": [
    {
     "name": "stdout",
     "output_type": "stream",
     "text": [
      "[('ananya', {'totalspend': 175.0, 'classification': 'high-value', 'categories': {'electronics', 'clothing'}}), ('jacob', {'totalspend': 145.0, 'classification': 'high-value', 'categories': {'electronics'}}), ('fatima', {'totalspend': 110.0, 'classification': 'high-value', 'categories': {'stationery', 'homeessentials'}})]\n",
      "Number 1 spender is ANANYA\n",
      "Number 2 spender is JACOB\n",
      "Number 3 spender is FATIMA\n"
     ]
    }
   ],
   "source": [
    "customersWithSpending = (sorted(customerClassification.items(),key= lambda x: x[1]['totalspend'],  reverse=True))\n",
    "print (customersWithSpending[:3])\n",
    "i = 1 \n",
    "for customer in customersWithSpending[:3]:\n",
    "    print(f\"Number {i} spender is {customer[0].upper()}\")\n",
    "    i = i+1"
   ]
  },
  {
   "cell_type": "markdown",
   "id": "997ff020",
   "metadata": {},
   "source": [
    "## Organize and display data"
   ]
  },
  {
   "cell_type": "code",
   "execution_count": 96,
   "id": "1f612293",
   "metadata": {},
   "outputs": [
    {
     "name": "stdout",
     "output_type": "stream",
     "text": [
      "---------------------------------------------------------------\n",
      "---------------------------------------------------------------\n",
      "***Summary of each customer’s total spending and their classification***\n",
      "---------------------------------------------------------------\n",
      "The customer 'ANANYA' classified as 'HIGH-VALUE' spent 175.0\n",
      "The customer 'JACOB' classified as 'HIGH-VALUE' spent 145.0\n",
      "The customer 'FATIMA' classified as 'HIGH-VALUE' spent 110.0\n",
      "The customer 'ELENA' classified as 'HIGH-VALUE' spent 105.0\n",
      "The customer 'KWAME' classified as 'MODERATE-VALUE' spent 92.0\n",
      "The customer 'LIWEI' classified as 'MODERATE-VALUE' spent 85.0\n",
      "The customer 'EMMA' classified as 'MODERATE-VALUE' spent 80.0\n",
      "The customer 'JACK' classified as 'MODERATE-VALUE' spent 80.0\n",
      "The customer 'HIROSHI' classified as 'MODERATE-VALUE' spent 67.0\n",
      "The customer 'SHANKAR' classified as 'MODERATE-VALUE' spent 65.0\n",
      "The customer 'SOPHIA' classified as 'MODERATE-VALUE' spent 50.0\n",
      "The customer 'RAVI' classified as 'LOW-VALUE' spent 40.0\n",
      "---------------------------------------------------------------\n",
      "---------------------------------------------------------------\n",
      "***Customers who purchased from multiple product categories***\n",
      "---------------------------------------------------------------\n",
      " The customer 'ANANYA' purchased in categories {'electronics', 'clothing'}\n",
      " The customer 'FATIMA' purchased in categories {'stationery', 'homeessentials'}\n",
      " The customer 'LIWEI' purchased in categories {'electronics', 'clothing'}\n",
      " The customer 'EMMA' purchased in categories {'electronics', 'clothing'}\n",
      " The customer 'JACK' purchased in categories {'electronics', 'clothing'}\n",
      " The customer 'SHANKAR' purchased in categories {'electronics', 'clothing'}\n",
      "---------------------------------------------------------------\n",
      "---------------------------------------------------------------\n",
      "***Common customers who bought both electronics and clothing***\n",
      "---------------------------------------------------------------\n",
      "ANANYA\n",
      "LIWEI\n",
      "EMMA\n",
      "JACK\n",
      "SHANKAR\n"
     ]
    }
   ],
   "source": [
    "print(\"---------------------------------------------------------------\")\n",
    "print(\"---------------------------------------------------------------\")\n",
    "\n",
    "print(\"***Summary of each customer’s total spending and their classification***\")\n",
    "print(\"---------------------------------------------------------------\")\n",
    "\n",
    "\n",
    "customerwithMultipleCategories = {}\n",
    "customersWithClothingandElectronics = {}\n",
    "for customer in customersWithSpending:\n",
    "    customerName = customer[0]\n",
    "    classification = (customer[1])[\"classification\"]\n",
    "    totalSpend = (customer[1])[\"totalspend\"]\n",
    "    categories = (customer[1])[\"categories\"]\n",
    "    if(len(categories) > 1):\n",
    "        customerwithMultipleCategories.setdefault(customerName,  {\"categories\": categories, \"isClothingAndElectronics\": 0})\n",
    "        if(\"electronics\" in categories and \"clothing\" in categories):\n",
    "            (customerwithMultipleCategories[customerName])[\"isClothingAndElectronics\"] = 1\n",
    "        else:\n",
    "            (customerwithMultipleCategories[customerName])[\"isClothingAndElectronics\"] = 0\n",
    "            \n",
    "\n",
    "        \n",
    "    print(f\"The customer '{customer[0].upper()}' classified as '{classification.upper()}' spent {totalSpend}\")\n",
    "    \n",
    "print(\"---------------------------------------------------------------\")\n",
    "print(\"---------------------------------------------------------------\")\n",
    "print(\"***Customers who purchased from multiple product categories***\")\n",
    "print(\"---------------------------------------------------------------\")\n",
    "\n",
    "#print(customerwithMultipleCategories)\n",
    "for key,value_dict  in customerwithMultipleCategories.items():\n",
    "    categories = value_dict[\"categories\"]\n",
    "    print(f\" The customer '{key.upper()}' purchased in categories {categories}\")\n",
    "\n",
    "print(\"---------------------------------------------------------------\")\n",
    "print(\"---------------------------------------------------------------\")\n",
    "print(\"***Common customers who bought both electronics and clothing***\")\n",
    "print(\"---------------------------------------------------------------\")\n",
    "\n",
    "customersWithClothingandElectronics = [name.upper() for name, values in customerwithMultipleCategories.items() if values[\"isClothingAndElectronics\"] == 1 ]\n",
    "\n",
    "for customer in customersWithClothingandElectronics:\n",
    "    print(customer)\n",
    "#print(customersWithClothingandElectronics)\n",
    "\n",
    "#customersWithClothingandElectronics = [name for name, categories in customerwithMultipleCategories if \"electronics\" in categories ]\n",
    "\n",
    "    \n"
   ]
  }
 ],
 "metadata": {
  "kernelspec": {
   "display_name": "Python 3",
   "language": "python",
   "name": "python3"
  },
  "language_info": {
   "codemirror_mode": {
    "name": "ipython",
    "version": 3
   },
   "file_extension": ".py",
   "mimetype": "text/x-python",
   "name": "python",
   "nbconvert_exporter": "python",
   "pygments_lexer": "ipython3",
   "version": "3.11.9"
  }
 },
 "nbformat": 4,
 "nbformat_minor": 5
}
